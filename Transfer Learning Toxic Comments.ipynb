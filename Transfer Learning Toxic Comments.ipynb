{
 "cells": [
  {
   "cell_type": "markdown",
   "id": "7001f184",
   "metadata": {},
   "source": [
    "### Load Libraries\n",
    "#### Pytorch Lightning, HuggingFace Bert, Pandas, SKLearn"
   ]
  },
  {
   "cell_type": "code",
   "execution_count": 1,
   "id": "d1796640",
   "metadata": {},
   "outputs": [],
   "source": [
    "\n",
    "\n",
    "import pandas as pd\n",
    "import numpy as np\n",
    "import seaborn as sns\n",
    "import matplotlib.pyplot as plt\n",
    "from matplotlib import rc\n",
    "from tqdm.auto import tqdm\n",
    "import re\n",
    "from tqdm import tqdm\n",
    "\n",
    "from transformers import BertTokenizerFast as BertTokenizer, BertModel, AdamW, get_linear_schedule_with_warmup\n",
    "\n",
    "import torch\n",
    "import torch.nn as nn\n",
    "from torch.utils.data import Dataset, DataLoader\n",
    "import pytorch_lightning as pl\n",
    "from pytorch_lightning.callbacks import ModelCheckpoint, EarlyStopping, LearningRateMonitor\n",
    "from pytorch_lightning.loggers import TensorBoardLogger\n",
    "from torchmetrics.functional import auroc\n",
    "\n",
    "from sklearn.model_selection import train_test_split\n",
    "from sklearn.metrics import classification_report, multilabel_confusion_matrix, accuracy_score, precision_score, recall_score, f1_score\n",
    "\n",
    "\n",
    "\n",
    "RANDOM_SEED = 42\n",
    "\n",
    "np.random.seed(RANDOM_SEED)\n",
    "torch.manual_seed(RANDOM_SEED)\n",
    "\n",
    "\n",
    "cutoff = 0.5"
   ]
  },
  {
   "cell_type": "code",
   "execution_count": 2,
   "id": "1edccc99",
   "metadata": {},
   "outputs": [],
   "source": [
    "##This method is a batch method to load the augmented data files\n",
    "import re\n",
    "\n",
    "def process_file_to_dataframe(file_path):\n",
    "    # Regular expression to match lines with six comma-separated integers (either 0 or 1) at the end\n",
    "    pattern = re.compile(r\"(.*),(0|1),\\s*(0|1),\\s*(0|1),\\s*(0|1),\\s*(0|1),\\s*(0|1)$\")\n",
    "\n",
    "    # Preparing a list to store each row as a dictionary\n",
    "    data = []\n",
    "\n",
    "    # Reading the file and processing each line\n",
    "    try:\n",
    "        with open(file_path, 'r', encoding='utf-8') as file:\n",
    "            for line in file:\n",
    "                match = pattern.search(line)\n",
    "                if match:\n",
    "                    # Creating a dictionary for each matched line\n",
    "                    row = {\n",
    "                        'comment_text': match.group(1).strip(),\n",
    "                        'toxic': int(match.group(2)),\n",
    "                        'severe_toxic': int(match.group(3)),\n",
    "                        'obscene': int(match.group(4)),\n",
    "                        'threat': int(match.group(5)),\n",
    "                        'insult': int(match.group(6)),\n",
    "                        'identity_hate': int(match.group(7))\n",
    "                    }\n",
    "                    data.append(row)\n",
    "    except UnicodeDecodeError:\n",
    "        # Try a different encoding in case of a decode error\n",
    "        with open(file_path, 'r', encoding='ISO-8859-1') as file:\n",
    "            for line in file:\n",
    "                match = pattern.search(line)\n",
    "                if match:\n",
    "                    # Creating a dictionary for each matched line\n",
    "                    row = {\n",
    "                        'comment_text': match.group(1).strip(),\n",
    "                        'toxic': int(match.group(2)),\n",
    "                        'severe_toxic': int(match.group(3)),\n",
    "                        'obscene': int(match.group(4)),\n",
    "                        'threat': int(match.group(5)),\n",
    "                        'insult': int(match.group(6)),\n",
    "                        'identity_hate': int(match.group(7))\n",
    "                    }\n",
    "                    data.append(row)\n",
    "\n",
    "    # Creating a DataFrame from the list of dictionaries\n",
    "    df = pd.DataFrame(data)\n",
    "\n",
    "    return df\n",
    "\n",
    "# Example usage\n",
    "file_path = 'translated_text_with_labels_fr.txt'   # Replace with your actual file path\n",
    "augdata_fr = process_file_to_dataframe(file_path)\n",
    "\n",
    "# Now 'df' is a pandas DataFrame with the specified structure\n",
    "augdata_fr.insert(0, 'id', 'x')"
   ]
  },
  {
   "cell_type": "markdown",
   "id": "089c4534",
   "metadata": {},
   "source": [
    "### Data Collection"
   ]
  },
  {
   "cell_type": "code",
   "execution_count": 3,
   "id": "6ce712d2",
   "metadata": {},
   "outputs": [],
   "source": [
    "##Read in the dataset\n",
    "toxiccomments_df = pd.read_csv(\"toxic_comments.csv\")\n"
   ]
  },
  {
   "cell_type": "markdown",
   "id": "e4730737",
   "metadata": {},
   "source": [
    "### Data Augmentation\n",
    "\n",
    "See Data Augmentation French Translation.ipynb"
   ]
  },
  {
   "cell_type": "code",
   "execution_count": 4,
   "id": "280057b4",
   "metadata": {},
   "outputs": [
    {
     "name": "stdout",
     "output_type": "stream",
     "text": [
      "                 id                                       comment_text  toxic  \\\n",
      "0  0000997932d777bf  Explanation\\nWhy the edits made under my usern...      0   \n",
      "1  000103f0d9cfb60f  D'aww! He matches this background colour I'm s...      0   \n",
      "2  000113f07ec002fd  Hey man, I'm really not trying to edit war. It...      0   \n",
      "3  0001b41b1c6bb37e  \"\\nMore\\nI can't make any real suggestions on ...      0   \n",
      "4  0001d958c54c6e35  You, sir, are my hero. Any chance you remember...      0   \n",
      "\n",
      "   severe_toxic  obscene  threat  insult  identity_hate  \n",
      "0             0        0       0       0              0  \n",
      "1             0        0       0       0              0  \n",
      "2             0        0       0       0              0  \n",
      "3             0        0       0       0              0  \n",
      "4             0        0       0       0              0  \n"
     ]
    }
   ],
   "source": [
    "##Append Augmented Data\n",
    "\n",
    "##toxiccomments_df = pd.concat([toxiccomments_df, augdata_ger], ignore_index=True)\n",
    "##toxiccomments_df = pd.concat([toxiccomments_df, augdata_sp], ignore_index=True)\n",
    "##toxiccomments_df = pd.concat([toxiccomments_df, augdata_fr], ignore_index=True)\n",
    "# Now 'appended_df' is the combined DataFrame\n",
    "print(toxiccomments_df.head())  # "
   ]
  },
  {
   "cell_type": "markdown",
   "id": "37a0474f",
   "metadata": {},
   "source": [
    "### Data Preparation\n",
    "\n",
    "Splitting up Data\n",
    "Creating Pytorch DataSet Class\n",
    "Creating Pytorch DataLoader Class\n"
   ]
  },
  {
   "cell_type": "code",
   "execution_count": 5,
   "id": "6efefed0",
   "metadata": {},
   "outputs": [],
   "source": [
    "##Split up our data\n",
    "\n",
    "\n",
    "\n",
    "from sklearn.model_selection import train_test_split\n",
    "\n",
    "# Initial split: 90% train, 10% temporary (for validation and test)\n",
    "train_df, temp_df = train_test_split(toxiccomments_df, test_size=0.1)\n",
    "\n",
    "# Second split of the temporary dataset: 50% validation, 50% test (5% of the original dataset each)\n",
    "val_df, test_df = train_test_split(temp_df, test_size=0.5)"
   ]
  },
  {
   "cell_type": "code",
   "execution_count": 6,
   "id": "7dec6f81",
   "metadata": {},
   "outputs": [
    {
     "data": {
      "text/plain": [
       "((143613, 8), (7979, 8), (7979, 8))"
      ]
     },
     "execution_count": 6,
     "metadata": {},
     "output_type": "execute_result"
    }
   ],
   "source": [
    "##Inspect the size of our datasets\n",
    "\n",
    "train_df.shape, val_df.shape, test_df.shape"
   ]
  },
  {
   "cell_type": "code",
   "execution_count": 7,
   "id": "ccd4be75",
   "metadata": {},
   "outputs": [
    {
     "name": "stdout",
     "output_type": "stream",
     "text": [
      "                  id                                       comment_text  \\\n",
      "0   0000997932d777bf  Explanation\\nWhy the edits made under my usern...   \n",
      "2   000113f07ec002fd  Hey man, I'm really not trying to edit war. It...   \n",
      "3   0001b41b1c6bb37e  \"\\nMore\\nI can't make any real suggestions on ...   \n",
      "8   00037261f536c51d  Sorry if the word 'nonsense' was offensive to ...   \n",
      "10  0005300084f90edc  \"\\nFair use rationale for Image:Wonju.jpg\\n\\nT...   \n",
      "\n",
      "    toxic  severe_toxic  obscene  threat  insult  identity_hate  \n",
      "0       0             0        0       0       0              0  \n",
      "2       0             0        0       0       0              0  \n",
      "3       0             0        0       0       0              0  \n",
      "8       0             0        0       0       0              0  \n",
      "10      0             0        0       0       0              0  \n"
     ]
    }
   ],
   "source": [
    "long_strings = toxiccomments_df[toxiccomments_df['comment_text'].str.len() > 128]\n",
    "\n",
    "# Display the result\n",
    "print(long_strings.head())"
   ]
  },
  {
   "cell_type": "code",
   "execution_count": 8,
   "id": "e1f65211",
   "metadata": {},
   "outputs": [
    {
     "data": {
      "image/png": "[encoded data removed]",
      "text/plain": [
       "<Figure size 1000x600 with 1 Axes>"
      ]
     },
     "metadata": {},
     "output_type": "display_data"
    }
   ],
   "source": [
    "labels_c = toxiccomments_df.columns.tolist()[2:]\n",
    "\n",
    "summed_data = toxiccomments_df[labels_c].sum().sort_values()\n",
    "\n",
    "# Getting the colors from the rainbow palette, one for each bar\n",
    "palette = sns.color_palette(\"rainbow\", len(summed_data))\n",
    "\n",
    "# Creating the bar plot with individual colors\n",
    "plt.figure(figsize=(10, 6))\n",
    "sns.barplot(y=summed_data.index, x=summed_data.values, palette=palette)\n",
    "plt.title('Record Counts')\n",
    "plt.xlabel('Records')\n",
    "plt.ylabel('Label')\n",
    "plt.show()"
   ]
  },
  {
   "cell_type": "code",
   "execution_count": 9,
   "id": "7f7af761",
   "metadata": {},
   "outputs": [],
   "source": [
    "train_toxic = train_df[train_df[labels_c].sum(axis=1) > 0]\n",
    "train_clean = train_df[train_df[labels_c].sum(axis=1) == 0]\n",
    "\n",
    "\n",
    "train_df = pd.concat([  train_toxic,  train_clean.sample(30000)])\n"
   ]
  },
  {
   "cell_type": "code",
   "execution_count": 10,
   "id": "c9ebcebc",
   "metadata": {},
   "outputs": [],
   "source": [
    "BERT_MODEL_NAME = 'bert-base-cased'\n",
    "tokenizer = BertTokenizer.from_pretrained(BERT_MODEL_NAME, return_dict = True)\n",
    "\n"
   ]
  },
  {
   "cell_type": "code",
   "execution_count": 11,
   "id": "9e87233f",
   "metadata": {},
   "outputs": [],
   "source": [
    "max_token_count = 512"
   ]
  },
  {
   "cell_type": "code",
   "execution_count": 12,
   "id": "c5b5c490",
   "metadata": {},
   "outputs": [],
   "source": [
    "##Pytorch Dataset Class\n",
    "##need to define our getitem in our pytorch dataset\n",
    "##provide parameters in how to load the data\n",
    "\n",
    "class ToxicCommentsDataset(Dataset):\n",
    "\n",
    "  def __init__(\n",
    "    self, \n",
    "    data: pd.DataFrame, \n",
    "    tokenizer: BertTokenizer, \n",
    "    max_token_len: int = 128\n",
    "  ):\n",
    "    self.tokenizer = tokenizer\n",
    "    self.data = data\n",
    "    self.max_token_len = max_token_len\n",
    "    \n",
    "  def __len__(self):\n",
    "    return len(self.data)\n",
    "\n",
    "  def __getitem__(self, index: int):\n",
    "    \n",
    "    ##gets a single row\n",
    "    data_row = self.data.iloc[index]\n",
    "\n",
    "    comment_text = data_row.comment_text\n",
    "    labels = data_row[labels_c]\n",
    "    \n",
    "    ##parameters for Bert\n",
    "    encoding = self.tokenizer.encode_plus(\n",
    "      comment_text,\n",
    "      add_special_tokens=True,\n",
    "      max_length=self.max_token_len,\n",
    "      return_token_type_ids=False,\n",
    "      padding=\"max_length\",\n",
    "      truncation=True,\n",
    "      return_attention_mask=True,\n",
    "      return_tensors='pt',\n",
    "    )\n",
    "    \n",
    "    return dict(        \n",
    "      ##text inputids, attention  \n",
    "      comment_text=comment_text,\n",
    "      input_ids=encoding[\"input_ids\"].flatten(), ##remove excess dimension\n",
    "      attention_mask=encoding[\"attention_mask\"].flatten(), ##remove excess dimension\n",
    "      labels=torch.FloatTensor(labels)) ##float tensor required by loss function"
   ]
  },
  {
   "cell_type": "code",
   "execution_count": 13,
   "id": "69de1b0f",
   "metadata": {},
   "outputs": [],
   "source": [
    "train_dataset = ToxicCommentsDataset(\n",
    "  train_df,\n",
    "  tokenizer)"
   ]
  },
  {
   "cell_type": "code",
   "execution_count": 14,
   "id": "4750e9f9",
   "metadata": {},
   "outputs": [
    {
     "name": "stderr",
     "output_type": "stream",
     "text": [
      "Some weights of the model checkpoint at bert-base-cased were not used when initializing BertModel: ['cls.predictions.transform.LayerNorm.weight', 'cls.seq_relationship.bias', 'cls.predictions.transform.LayerNorm.bias', 'cls.predictions.transform.dense.weight', 'cls.predictions.bias', 'cls.predictions.transform.dense.bias', 'cls.seq_relationship.weight', 'cls.predictions.decoder.weight']\n",
      "- This IS expected if you are initializing BertModel from the checkpoint of a model trained on another task or with another architecture (e.g. initializing a BertForSequenceClassification model from a BertForPreTraining model).\n",
      "- This IS NOT expected if you are initializing BertModel from the checkpoint of a model that you expect to be exactly identical (initializing a BertForSequenceClassification model from a BertForSequenceClassification model).\n"
     ]
    },
    {
     "name": "stdout",
     "output_type": "stream",
     "text": [
      "BaseModelOutputWithPoolingAndCrossAttentions(last_hidden_state=tensor([[[ 0.4395,  0.2536, -0.0164,  ..., -0.1966,  0.5110,  0.0689],\n",
      "         [ 0.6004, -0.2250,  0.2992,  ..., -0.1561,  0.1168,  0.1942],\n",
      "         [-0.0699, -0.1049,  0.0520,  ...,  0.0523, -0.1588,  0.2129],\n",
      "         ...,\n",
      "         [ 0.1794, -0.1084, -0.1187,  ...,  0.6084,  0.3537, -0.0576],\n",
      "         [ 0.5189, -0.0482,  0.1877,  ..., -0.0955, -0.0479,  0.2421],\n",
      "         [ 0.1709,  0.4509, -0.0793,  ..., -0.3501,  0.9191, -0.5921]]],\n",
      "       grad_fn=<NativeLayerNormBackward0>), pooler_output=tensor([[-0.7063,  0.4875,  0.9999, -0.9938,  0.9680,  0.9220,  0.9903, -0.9924,\n",
      "         -0.9803, -0.6939,  0.9851,  0.9986, -0.9986, -0.9998,  0.8586, -0.9822,\n",
      "          0.9883, -0.5301, -0.9999, -0.8283, -0.4781, -0.9998,  0.2469,  0.9802,\n",
      "          0.9793,  0.0585,  0.9864,  0.9999,  0.9191, -0.3221,  0.2377, -0.9925,\n",
      "          0.8780, -0.9985,  0.1314,  0.1070,  0.8019, -0.1271,  0.8201, -0.9463,\n",
      "         -0.7594, -0.7919,  0.7308, -0.5193,  0.9426,  0.3260,  0.1086,  0.0143,\n",
      "          0.0086,  0.9996, -0.9726,  0.9972, -0.9961,  0.9950,  0.9963,  0.5145,\n",
      "          0.9963,  0.1480, -0.9989,  0.1614,  0.9686,  0.2540,  0.9252, -0.0617,\n",
      "          0.3165, -0.3044, -0.9278,  0.0746, -0.4813,  0.1865,  0.3903,  0.3203,\n",
      "          0.9885, -0.9065, -0.0274, -0.8891,  0.2370, -0.9999,  0.9626,  0.9999,\n",
      "          0.7922, -0.9997,  0.9951, -0.2285, -0.7606,  0.7269, -0.9988, -0.9994,\n",
      "          0.1570, -0.6542,  0.9277, -0.9874,  0.6553, -0.8957,  1.0000, -0.9638,\n",
      "         -0.1379,  0.3217,  0.9636, -0.8004, -0.7704,  0.9605,  0.9990, -0.9940,\n",
      "          0.9985,  0.7958, -0.9495, -0.8757,  0.8176,  0.0170,  0.9910, -0.9899,\n",
      "         -0.8674, -0.0546,  0.9487, -0.9165,  0.9906,  0.8761, -0.2368,  1.0000,\n",
      "         -0.1574,  0.9640,  0.9986,  0.8906, -0.8660, -0.2064, -0.6213,  0.9000,\n",
      "         -0.5331, -0.3313,  0.7702, -0.9919, -0.9981,  0.9995, -0.3318,  1.0000,\n",
      "         -0.9991,  0.9937, -0.9999, -0.8476, -0.8504, -0.0575, -0.9882,  0.1657,\n",
      "          0.9929,  0.0557, -0.9597, -0.8449,  0.6332, -0.9076,  0.5182,  0.6990,\n",
      "         -0.9669,  0.9936,  0.9975,  0.9490,  0.9894,  0.1861, -0.9563,  0.9324,\n",
      "          0.9832, -0.9994,  0.7557, -0.9937,  0.9991,  0.9760,  0.7713, -0.9956,\n",
      "          0.9999, -0.6781, -0.0874, -0.0600, -0.1904, -0.9989,  0.4935,  0.4065,\n",
      "          0.7936,  0.9993, -0.9963,  0.9993,  0.9004,  0.0942,  0.7508,  0.9988,\n",
      "         -0.9963, -0.9836, -0.9879,  0.2017,  0.6631,  0.7994,  0.4239,  0.9676,\n",
      "          0.9984,  0.6998, -0.9977, -0.3786,  0.9772, -0.1280,  1.0000, -0.3250,\n",
      "         -0.9997, -0.8273,  0.9478,  0.9910, -0.3235,  0.9861, -0.7240, -0.2742,\n",
      "          0.9878, -0.9901,  0.9980,  0.1145,  0.8936,  0.9010,  0.9949, -0.8812,\n",
      "         -0.1006,  0.1588, -0.7661,  0.9999, -0.9995, -0.3067,  0.4703, -0.9928,\n",
      "         -0.9982,  0.9886,  0.0542, -0.9078, -0.1935,  0.7706,  0.1807,  0.9350,\n",
      "          0.9908, -0.6531, -0.6214, -0.9998, -0.9977, -0.8635, -0.9612,  0.0188,\n",
      "          0.6283, -0.3339, -0.9099, -0.9979,  0.9766,  0.8531, -0.9393, -0.1225,\n",
      "         -0.6998, -0.9982,  0.6342, -0.8804, -0.9983,  0.9994, -0.8295,  0.9965,\n",
      "          0.9814, -0.9952,  0.8586, -0.9988, -0.0666, -0.9948,  0.3440,  0.6532,\n",
      "         -0.8286, -0.0044,  0.9924, -0.9729, -0.8682,  0.8484, -0.9999,  0.9495,\n",
      "         -0.1826,  0.9991,  0.8558,  0.1308,  0.9870,  0.9288, -0.9829, -0.9998,\n",
      "          0.9363,  0.9441, -0.9942, -0.1393,  0.9999, -0.9981, -0.8287, -0.9538,\n",
      "         -0.9962, -0.9996,  0.2705, -0.8602,  0.1838,  0.9871,  0.3848,  0.2563,\n",
      "          0.9951,  0.9953,  0.2733, -0.2963,  0.0275, -0.9792, -0.9666,  0.7690,\n",
      "          0.1806, -1.0000,  0.9998, -0.9957,  0.9939,  0.9733, -0.9956,  0.8619,\n",
      "          0.0996, -0.9711, -0.0206,  0.9999,  0.9853,  0.0157,  0.2087,  0.9491,\n",
      "         -0.2971,  0.6897, -0.8493, -0.6673,  0.1326, -0.9304,  0.9936,  0.8358,\n",
      "         -0.9916,  0.9959,  0.0908,  0.7795, -0.7899,  0.8456,  0.9915, -0.0555,\n",
      "         -0.3607,  0.1068, -0.3570, -0.9824,  0.1523, -0.9977, -0.4206,  0.9236,\n",
      "          0.9909, -0.9927,  0.9940, -0.1118,  0.9263, -0.9980,  1.0000, -0.9981,\n",
      "          0.0463,  0.7851, -0.9300, -0.6443,  0.9933,  0.9893,  0.9833, -0.8166,\n",
      "         -0.6614,  0.9016,  0.9773, -0.9779, -0.0038, -0.9993, -0.7618,  0.9961,\n",
      "          0.9969,  0.0721, -0.0559, -0.9979,  0.9633, -0.8801, -0.9220, -0.0102,\n",
      "         -0.8683,  0.8339,  0.9981, -0.6305,  0.7133,  0.1007, -0.9902,  0.9125,\n",
      "          0.8141,  0.9998, -0.9708,  0.5041,  0.9905, -0.2101, -0.6762,  0.5851,\n",
      "          0.9991, -0.9840, -0.2196, -0.9995,  0.0560, -0.8280,  0.0226, -0.5787,\n",
      "          0.1189, -0.8626,  0.9726,  0.2834,  0.6924, -0.4288,  0.9812, -0.2073,\n",
      "         -0.0424, -0.2898, -0.2404,  0.5216,  0.3019,  0.9865, -0.9764,  0.9996,\n",
      "         -0.1856, -1.0000, -0.9968, -0.7735, -0.9995,  0.8171, -0.9961,  0.9888,\n",
      "          0.9381, -0.9982, -0.9991, -0.9984, -0.9953,  0.8696,  0.7189, -0.0474,\n",
      "          0.2841,  0.1023,  0.0839, -0.1844, -0.0775, -0.9630, -0.6930, -0.9984,\n",
      "          0.7365, -1.0000, -0.7391,  0.9973, -0.9969, -0.9308, -0.9190, -0.9295,\n",
      "         -0.8838,  0.4410,  0.9880, -0.0187, -0.6419, -0.9995,  0.9888, -0.8774,\n",
      "          0.1735, -0.8565, -0.9785,  0.9996,  0.8970, -0.2895, -0.0658, -0.9987,\n",
      "          0.9915, -0.9651, -0.9112, -0.9825,  0.0925, -0.9517, -0.9998,  0.0923,\n",
      "          0.9963,  0.9959,  0.9816,  0.3076, -0.3356, -0.9621,  0.1017, -0.9999,\n",
      "          0.8803,  0.8737, -0.9860, -0.8302,  0.9945,  0.9807, -0.9648, -0.9789,\n",
      "          0.9454,  0.5919,  0.9668, -0.5105, -0.4244,  0.2924,  0.0060, -0.9896,\n",
      "         -0.9208,  0.9962, -0.9992,  0.9809,  0.9953,  0.9985, -0.1679,  0.0150,\n",
      "         -0.9890, -0.9909, -0.6277,  0.3568, -0.9999,  0.9999, -1.0000,  0.6964,\n",
      "         -0.7520,  0.9213,  0.9897, -0.4849, -0.9999, -0.9997,  0.3884, -0.0283,\n",
      "          0.9908,  0.3553,  0.2244, -0.6663, -0.1636,  0.9970, -0.8853, -0.8285,\n",
      "         -0.9980,  0.9996,  0.7000, -0.9986,  0.9966, -0.9995,  0.9150,  0.9802,\n",
      "          0.8662,  0.9815, -0.9989,  1.0000, -0.9997,  0.9982, -1.0000, -0.9989,\n",
      "          0.9998, -0.9920, -0.7686, -0.9997, -0.9981,  0.8270,  0.1291, -0.4959,\n",
      "          0.9908, -0.9998, -0.9986,  0.2916, -0.9502, -0.8741,  0.9959, -0.6499,\n",
      "          0.9930, -0.1374,  0.9710,  0.3020,  0.9975,  0.9959, -0.8716, -0.7342,\n",
      "         -0.9945,  0.9853, -0.6357,  0.3316,  0.9599,  0.0985, -0.6930,  0.3366,\n",
      "         -0.9972,  0.3664, -0.2543,  0.9328,  0.9309,  0.8489, -0.0991, -0.6304,\n",
      "         -0.2366, -0.9945,  0.5581, -0.9995,  0.9809, -0.9585,  0.0370, -0.4534,\n",
      "          0.4268, -0.9751,  0.9995,  0.9985, -0.9970,  0.0906,  0.9903, -0.8157,\n",
      "          0.9807, -0.9932,  0.0276,  0.9645, -0.7478,  0.9846,  0.2325, -0.0375,\n",
      "          0.9723, -0.9960, -0.9342, -0.7086,  0.3570,  0.2058, -0.9737,  0.0578,\n",
      "          0.9894, -0.2040, -0.9997,  0.9472, -0.9994, -0.1139,  0.9779, -0.0376,\n",
      "          0.9999, -0.7879,  0.1263,  0.1961, -0.9998, -0.9990,  0.0232, -0.1049,\n",
      "         -0.9704,  0.9992, -0.0150,  0.9188, -0.9998,  0.2326,  0.9960,  0.2835,\n",
      "          0.8402, -0.8198, -0.9660, -0.9739, -0.6589,  0.0217,  0.9277, -0.9906,\n",
      "         -0.8521, -0.8565,  0.9999, -0.9977, -0.9001, -0.9882,  0.5337,  0.9101,\n",
      "          0.4539,  0.0652, -0.9437,  0.9551, -0.9458,  0.9969, -0.9957, -0.9967,\n",
      "          0.9998,  0.6827, -0.9952, -0.0930, -0.3990,  0.2730,  0.1855,  0.7937,\n",
      "         -0.9512, -0.1451, -0.9982,  0.8335, -0.9059, -0.9916, -0.5660, -0.3786,\n",
      "         -0.9948,  0.9950,  0.9684,  0.9999, -0.9998,  0.8827,  0.0571,  0.9992,\n",
      "          0.0307, -0.6629,  0.9244,  0.9995, -0.7324,  0.8856, -0.0962,  0.0249,\n",
      "          0.1881, -0.6435,  0.9969, -0.9556,  0.1620, -0.9747, -0.9999,  0.9999,\n",
      "         -0.0483,  0.9909,  0.2915,  0.8657, -0.8983,  0.9826, -0.9785, -0.9122,\n",
      "         -1.0000,  0.1611, -0.9973, -0.9922,  0.0735,  0.9890, -0.9996, -0.9930,\n",
      "         -0.4599, -1.0000,  0.9500, -0.9905, -0.8983, -0.9920,  0.9980, -0.4508,\n",
      "         -0.6785,  0.9812, -0.9808,  0.9599,  0.9523, -0.2220,  0.2329,  0.0582,\n",
      "         -0.7999, -0.9945, -0.9295, -0.9625,  0.8767, -0.9908, -0.8858,  0.9968,\n",
      "          0.9907, -0.9991, -0.9962,  0.9964, -0.0984,  0.9925, -0.5625, -0.9998,\n",
      "         -0.9999,  0.1097, -0.0143,  0.9962, -0.3277,  0.9854,  0.7772, -0.4981,\n",
      "          0.5027, -0.5811, -0.2844, -0.4310, -0.1575,  1.0000, -0.8537,  0.9935]],\n",
      "       grad_fn=<TanhBackward0>), hidden_states=None, past_key_values=None, attentions=None, cross_attentions=None)\n"
     ]
    }
   ],
   "source": [
    "bert_model = BertModel.from_pretrained(BERT_MODEL_NAME, return_dict=True)\n",
    "\n",
    "\n",
    "\n",
    "\n",
    "sample_row = toxiccomments_df.iloc[31]\n",
    "sample_comment = sample_row.comment_text\n",
    "\n",
    "\n",
    "tokenizer = BertTokenizer.from_pretrained('bert-base-cased')\n",
    "\n",
    "\n",
    "encoded_input = tokenizer(sample_comment, return_tensors='pt')\n",
    "output = bert_model(**encoded_input)\n",
    "\n",
    "\n",
    "##This is what highly contextualized word embeddings look like \n",
    "print(output)"
   ]
  },
  {
   "cell_type": "code",
   "execution_count": 15,
   "id": "3f081180",
   "metadata": {},
   "outputs": [],
   "source": [
    "# This class handles data loading processes for training, validation, and testing\n",
    "class ToxicCommentDataModule(pl.LightningDataModule):\n",
    "\n",
    "  def __init__(self, train_df, val_df, test_df, tokenizer, batch_size=8, max_token_len=128):\n",
    "    super().__init__()\n",
    "    self.batch_size = batch_size # Define batch size for DataLoader\n",
    "    self.train_df = train_df # Dataframe for training data\n",
    "    self.val_df = val_df # Dataframe for validation data\n",
    "    self.test_df = test_df # Dataframe for test data\n",
    "    self.tokenizer = tokenizer # Tokenizer for text data\n",
    "    self.max_token_len = max_token_len # Maximum token length for tokenizer\n",
    "\n",
    "  def setup(self, stage=None):\n",
    "    # Create datasets for training, validation, and testing\n",
    "    self.train_dataset = ToxicCommentsDataset(\n",
    "      self.train_df,\n",
    "      self.tokenizer,\n",
    "      self.max_token_len\n",
    "    )\n",
    "\n",
    "    self.val_dataset = ToxicCommentsDataset(\n",
    "            self.val_df,\n",
    "            self.tokenizer,\n",
    "            self.max_token_len\n",
    "    )\n",
    "\n",
    "    self.test_dataset = ToxicCommentsDataset(\n",
    "            self.test_df,\n",
    "            self.tokenizer,\n",
    "            self.max_token_len\n",
    "    )\n",
    "\n",
    "  def train_dataloader(self):\n",
    "    # DataLoader for training data with shuffling\n",
    "    return DataLoader(\n",
    "      self.train_dataset,\n",
    "      batch_size=self.batch_size,\n",
    "      shuffle=True,\n",
    "      num_workers=0 # Number of workers for loading data\n",
    "    )\n",
    "\n",
    "  def val_dataloader(self):\n",
    "    # DataLoader for validation data\n",
    "    return DataLoader(\n",
    "      self.val_dataset,\n",
    "      batch_size=self.batch_size,\n",
    "      num_workers=0 # Number of workers for loading data\n",
    "    )\n",
    "\n",
    "  def test_dataloader(self):\n",
    "    # DataLoader for test data\n",
    "    return DataLoader(\n",
    "      self.test_dataset,\n",
    "      batch_size=self.batch_size,\n",
    "      num_workers=0 # Number of workers for loading data\n",
    "    )"
   ]
  },
  {
   "cell_type": "code",
   "execution_count": 16,
   "id": "f9c9d777",
   "metadata": {},
   "outputs": [],
   "source": [
    "\n",
    "BATCH_SIZE = 32\n",
    "\n",
    "\n",
    "data_module = ToxicCommentDataModule(\n",
    "  train_df,\n",
    "  val_df, test_df,\n",
    "  tokenizer, batch_size = BATCH_SIZE)\n",
    "\n",
    "data_module.setup()"
   ]
  },
  {
   "cell_type": "code",
   "execution_count": 17,
   "id": "9ae3b492",
   "metadata": {},
   "outputs": [
    {
     "data": {
      "text/plain": [
       "1395"
      ]
     },
     "execution_count": 17,
     "metadata": {},
     "output_type": "execute_result"
    }
   ],
   "source": [
    "len(train_df) // BATCH_SIZE"
   ]
  },
  {
   "cell_type": "markdown",
   "id": "c90bd01e",
   "metadata": {},
   "source": [
    "# Model Selection, Training, Hyperparameter Tuning"
   ]
  },
  {
   "cell_type": "code",
   "execution_count": 18,
   "id": "fb50d363",
   "metadata": {},
   "outputs": [],
   "source": [
    "class ToxicCommentTagger(pl.LightningModule):\n",
    "  def __init__(self, n_classes: int, steps_per_epoch=None, n_epochs=None):\n",
    "    super().__init__()\n",
    "    self.bert = BertModel.from_pretrained(BERT_MODEL_NAME, return_dict=True) # Load pretrained BERT model\n",
    "    self.classifier = nn.Linear(self.bert.config.hidden_size, n_classes) # Define a classifier layer\n",
    "    self.steps_per_epoch = steps_per_epoch # Set steps per epoch for training\n",
    "    self.n_epochs = n_epochs # Set number of epochs for training\n",
    "    self.criterion = nn.BCELoss() # Binary Cross Entropy loss for binary classification\n",
    "\n",
    "  def forward(self, input_ids, attention_mask, labels=None):\n",
    "    output = self.bert(input_ids, attention_mask=attention_mask) # BERT model processing\n",
    "    output = self.classifier(output.pooler_output) # Apply classifier\n",
    "    output = torch.sigmoid(output) # Apply sigmoid activation\n",
    "    loss = 0\n",
    "    if labels is not None:\n",
    "        loss = self.criterion(output, labels) # Calculate loss if labels are provided\n",
    "    return loss, output\n",
    "\n",
    "  def training_step(self, batch, batch_idx):\n",
    "    # Extract input IDs, attention masks, and labels from batch\n",
    "    input_ids = batch[\"input_ids\"]\n",
    "    attention_mask = batch[\"attention_mask\"]\n",
    "    labels = batch[\"labels\"]\n",
    "    loss, outputs = self(input_ids, attention_mask, labels) # Perform a forward pass\n",
    "    self.log(\"train_loss\", loss, prog_bar=True, logger=True) # Log training loss\n",
    "    return {\"loss\": loss, \"predictions\": outputs, \"labels\": labels}\n",
    "\n",
    "  def validation_step(self, batch, batch_idx):\n",
    "    # Same as training_step, but for validation data\n",
    "    input_ids = batch[\"input_ids\"]\n",
    "    attention_mask = batch[\"attention_mask\"]\n",
    "    labels = batch[\"labels\"]\n",
    "    loss, outputs = self(input_ids, attention_mask, labels)\n",
    "    self.log(\"val_loss\", loss, prog_bar=True, logger=True) # Log validation loss\n",
    "    return loss\n",
    "\n",
    "  def test_step(self, batch, batch_idx):\n",
    "    # Same as training_step, but for test data\n",
    "    input_ids = batch[\"input_ids\"]\n",
    "    attention_mask = batch[\"attention_mask\"]\n",
    "    labels = batch[\"labels\"]\n",
    "    loss, outputs = self(input_ids, attention_mask, labels)\n",
    "    self.log(\"test_loss\", loss, prog_bar=True, logger=True) # Log test loss\n",
    "    return loss\n",
    "\n",
    "  def training_epoch_end(self, outputs):\n",
    "    # Process at the end of each training epoch\n",
    "    labels = []\n",
    "    predictions = []\n",
    "    for output in outputs:\n",
    "      for out_labels in output[\"labels\"].detach().cpu():\n",
    "        labels.append(out_labels)\n",
    "      for out_predictions in output[\"predictions\"].detach().cpu():\n",
    "        predictions.append(out_predictions)\n",
    "\n",
    "    labels = torch.stack(labels).int()\n",
    "    predictions = torch.stack(predictions)\n",
    "\n",
    "    # Calculate and log ROC AUC for each class\n",
    "    for i, name in enumerate(labels_c):\n",
    "      class_roc_auc = auroc(predictions[:, i], labels[:, i])\n",
    "      self.logger.experiment.add_scalar(f\"{name}_roc_auc/Train\", class_roc_auc, self.current_epoch)\n",
    "\n",
    "  def configure_optimizers(self):\n",
    "    optimizer = AdamW(self.parameters(), lr=2e-5) # Define optimizer\n",
    "\n",
    "    # Scheduler settings for learning rate adjustment\n",
    "    warmup_steps = self.steps_per_epoch // 3\n",
    "    total_steps = self.steps_per_epoch * self.n_epochs - warmup_steps\n",
    "\n",
    "    scheduler = get_linear_schedule_with_warmup(\n",
    "      optimizer,\n",
    "      num_warmup_steps=warmup_steps, \n",
    "      num_training_steps=total_steps\n",
    "    )\n",
    "\n",
    "    scheduler_config = {\n",
    "        'scheduler': scheduler,\n",
    "        'interval': 'step',  # 'step' or 'epoch' based on preference\n",
    "        'frequency': 1\n",
    "    }\n",
    "\n",
    "    return {'optimizer': optimizer, 'lr_scheduler': scheduler_config}"
   ]
  },
  {
   "cell_type": "code",
   "execution_count": 19,
   "id": "d3b7676d",
   "metadata": {},
   "outputs": [],
   "source": [
    "##For Model Evaluation\n",
    "logger = TensorBoardLogger(\"lightning_logs\", name=\"toxic-comments_test\")"
   ]
  },
  {
   "cell_type": "markdown",
   "id": "27e41417",
   "metadata": {},
   "source": [
    "### Initialize the Model, run .fit "
   ]
  },
  {
   "cell_type": "code",
   "execution_count": 20,
   "id": "7e053bd3",
   "metadata": {},
   "outputs": [
    {
     "name": "stderr",
     "output_type": "stream",
     "text": [
      "Some weights of the model checkpoint at bert-base-cased were not used when initializing BertModel: ['cls.predictions.transform.LayerNorm.weight', 'cls.seq_relationship.bias', 'cls.predictions.transform.LayerNorm.bias', 'cls.predictions.transform.dense.weight', 'cls.predictions.bias', 'cls.predictions.transform.dense.bias', 'cls.seq_relationship.weight', 'cls.predictions.decoder.weight']\n",
      "- This IS expected if you are initializing BertModel from the checkpoint of a model trained on another task or with another architecture (e.g. initializing a BertForSequenceClassification model from a BertForPreTraining model).\n",
      "- This IS NOT expected if you are initializing BertModel from the checkpoint of a model that you expect to be exactly identical (initializing a BertForSequenceClassification model from a BertForSequenceClassification model).\n",
      "GPU available: True (cuda), used: True\n",
      "TPU available: False, using: 0 TPU cores\n",
      "IPU available: False, using: 0 IPUs\n",
      "HPU available: False, using: 0 HPUs\n"
     ]
    }
   ],
   "source": [
    "N_EPOCHS = 1\n",
    "\n",
    "# Assuming ToxicCommentTagger, train_df, BATCH_SIZE, N_EPOCHS, logger, and data_module are defined\n",
    "\n",
    "# Initialize your model\n",
    "model = ToxicCommentTagger(n_classes=6, steps_per_epoch=len(train_df) // BATCH_SIZE, n_epochs=N_EPOCHS)\n",
    "\n",
    "# Add LearningRateMonitor to the callbacks\n",
    "lr_monitor = LearningRateMonitor(logging_interval='epoch')  # or 'epoch'\n",
    "\n",
    "# Initialize Trainer with the LearningRateMonitor callback\n",
    "trainer = pl.Trainer(    logger=logger,    callbacks=[lr_monitor],    max_epochs=N_EPOCHS,    accelerator='gpu',    devices=1)\n",
    "\n",
    "# Fit the model\n",
    "##trainer.fit(model, data_module)"
   ]
  },
  {
   "cell_type": "code",
   "execution_count": 21,
   "id": "f062b709",
   "metadata": {},
   "outputs": [],
   "source": [
    "def evaluate_model(ckpt_file_path, test_df, tokenizer, max_token_count, labels_c, cutoff=0.5, average_method='macro'):\n",
    "    # Load the trained model from the checkpoint file path\n",
    "    trained_model = ToxicCommentTagger.load_from_checkpoint(ckpt_file_path, n_classes=len(labels_c))\n",
    "\n",
    "    device = torch.device('cuda' if torch.cuda.is_available() else 'cpu')\n",
    "    trained_model = trained_model.to(device)\n",
    "\n",
    "    val_dataset = ToxicCommentsDataset(test_df, tokenizer, max_token_len=max_token_count)\n",
    "\n",
    "    predictions = []\n",
    "    labels = []\n",
    "\n",
    "    with torch.no_grad():\n",
    "        for item in tqdm(val_dataset):\n",
    "            _, prediction = trained_model(\n",
    "                item[\"input_ids\"].unsqueeze(dim=0).to(device), \n",
    "                item[\"attention_mask\"].unsqueeze(dim=0).to(device)\n",
    "            )\n",
    "            predictions.append(prediction.flatten())\n",
    "            labels.append(item[\"labels\"].int())\n",
    "\n",
    "    predictions = torch.stack(predictions).detach().cpu()\n",
    "    labels = torch.stack(labels).detach().cpu()\n",
    "\n",
    "    y_pred = np.where(predictions.numpy() > cutoff, 1, 0)\n",
    "    y_true = labels.numpy()\n",
    "\n",
    "    accuracy = accuracy_score(y_true, y_pred)\n",
    "    precision = precision_score(y_true, y_pred, average=average_method, zero_division=0)\n",
    "    recall = recall_score(y_true, y_pred, average=average_method, zero_division=0)\n",
    "    f1 = f1_score(y_true, y_pred, average=average_method, zero_division=0)\n",
    "\n",
    "    classification_rep = classification_report(y_true, y_pred, target_names=labels_c, zero_division=0)\n",
    "    \n",
    "    return classification_rep, accuracy, precision, recall, f1"
   ]
  },
  {
   "cell_type": "code",
   "execution_count": 22,
   "id": "ada42e76",
   "metadata": {},
   "outputs": [
    {
     "name": "stderr",
     "output_type": "stream",
     "text": [
      "Some weights of the model checkpoint at bert-base-cased were not used when initializing BertModel: ['cls.predictions.transform.LayerNorm.weight', 'cls.seq_relationship.bias', 'cls.predictions.transform.LayerNorm.bias', 'cls.predictions.transform.dense.weight', 'cls.predictions.bias', 'cls.predictions.transform.dense.bias', 'cls.seq_relationship.weight', 'cls.predictions.decoder.weight']\n",
      "- This IS expected if you are initializing BertModel from the checkpoint of a model trained on another task or with another architecture (e.g. initializing a BertForSequenceClassification model from a BertForPreTraining model).\n",
      "- This IS NOT expected if you are initializing BertModel from the checkpoint of a model that you expect to be exactly identical (initializing a BertForSequenceClassification model from a BertForSequenceClassification model).\n",
      "100%|██████████████████████████████████████████████████████████████████████████████| 7979/7979 [02:50<00:00, 46.78it/s]"
     ]
    },
    {
     "name": "stdout",
     "output_type": "stream",
     "text": [
      "               precision    recall  f1-score   support\n",
      "\n",
      "        toxic       0.60      0.99      0.75       728\n",
      " severe_toxic       0.87      0.93      0.90        67\n",
      "      obscene       0.87      0.98      0.92       408\n",
      "       threat       0.77      0.94      0.85        18\n",
      "       insult       0.86      0.97      0.91       386\n",
      "identity_hate       0.78      0.98      0.87        66\n",
      "\n",
      "    micro avg       0.72      0.98      0.83      1673\n",
      "    macro avg       0.79      0.96      0.87      1673\n",
      " weighted avg       0.75      0.98      0.84      1673\n",
      "  samples avg       0.09      0.09      0.09      1673\n",
      "\n",
      "Accuracy: 0.93\n",
      "Precision: 0.79\n",
      "Recall: 0.96\n",
      "F1: 0.87\n"
     ]
    },
    {
     "name": "stderr",
     "output_type": "stream",
     "text": [
      "\n"
     ]
    }
   ],
   "source": [
    "\n",
    "ckpt_file_path = \"C:\\\\Users\\\\salil\\\\lightning_logs\\\\toxic-comments_da\\\\version_0\\\\checkpoints\\\\epoch=14-step=27675.ckpt\"\n",
    "\n",
    "\n",
    "c_report, accuracy, precision, recall, f1 = evaluate_model(ckpt_file_path, test_df, tokenizer, max_token_count, labels_c)\n",
    "print(c_report)\n",
    "print(f\"Accuracy: {accuracy:.2f}\")\n",
    "print(f\"Precision: {precision:.2f}\")\n",
    "print(f\"Recall: {recall:.2f}\")\n",
    "print(f\"F1: {f1:.2f}\")"
   ]
  },
  {
   "cell_type": "code",
   "execution_count": 23,
   "id": "118a1de7",
   "metadata": {},
   "outputs": [
    {
     "name": "stdout",
     "output_type": "stream",
     "text": [
      "               precision    recall  f1-score   support\n",
      "\n",
      "        toxic       0.60      0.99      0.75       728\n",
      " severe_toxic       0.87      0.93      0.90        67\n",
      "      obscene       0.87      0.98      0.92       408\n",
      "       threat       0.77      0.94      0.85        18\n",
      "       insult       0.86      0.97      0.91       386\n",
      "identity_hate       0.78      0.98      0.87        66\n",
      "\n",
      "    micro avg       0.72      0.98      0.83      1673\n",
      "    macro avg       0.79      0.96      0.87      1673\n",
      " weighted avg       0.75      0.98      0.84      1673\n",
      "  samples avg       0.09      0.09      0.09      1673\n",
      "\n",
      "Accuracy: 0.93\n",
      "Precision: 0.79\n",
      "Recall: 0.96\n",
      "F1: 0.87\n"
     ]
    }
   ],
   "source": [
    "\n",
    "\n",
    "ckpt_file_path = \"C:\\\\Users\\\\salil\\\\lightning_logs\\\\toxic-comments_tl\\\\version_0\\\\checkpoints\\\\epoch=14-step=34515.ckpt\"\n",
    "\n",
    "c_report, accuracy, precision, recall, f1 = evaluate_model(ckpt_file_path, test_df, tokenizer, max_token_count, labels_c)\n",
    "print(c_report)\n",
    "print(f\"Accuracy: {accuracy:.2f}\")\n",
    "print(f\"Precision: {precision:.2f}\")\n",
    "print(f\"Recall: {recall:.2f}\")\n",
    "print(f\"F1: {f1:.2f}\")"
   ]
  },
  {
   "cell_type": "code",
   "execution_count": 25,
   "id": "76754362",
   "metadata": {},
   "outputs": [
    {
     "name": "stderr",
     "output_type": "stream",
     "text": [
      "Some weights of the model checkpoint at bert-base-cased were not used when initializing BertModel: ['cls.predictions.transform.LayerNorm.weight', 'cls.seq_relationship.bias', 'cls.predictions.transform.LayerNorm.bias', 'cls.predictions.transform.dense.weight', 'cls.predictions.bias', 'cls.predictions.transform.dense.bias', 'cls.seq_relationship.weight', 'cls.predictions.decoder.weight']\n",
      "- This IS expected if you are initializing BertModel from the checkpoint of a model trained on another task or with another architecture (e.g. initializing a BertForSequenceClassification model from a BertForPreTraining model).\n",
      "- This IS NOT expected if you are initializing BertModel from the checkpoint of a model that you expect to be exactly identical (initializing a BertForSequenceClassification model from a BertForSequenceClassification model).\n",
      "100%|██████████████████████████████████████████████████████████████████████████████| 7979/7979 [02:49<00:00, 47.02it/s]"
     ]
    },
    {
     "name": "stdout",
     "output_type": "stream",
     "text": [
      "               precision    recall  f1-score   support\n",
      "\n",
      "        toxic       0.56      0.94      0.70       728\n",
      " severe_toxic       0.46      0.46      0.46        67\n",
      "      obscene       0.72      0.82      0.77       408\n",
      "       threat       0.41      0.50      0.45        18\n",
      "       insult       0.70      0.75      0.73       386\n",
      "identity_hate       0.48      0.50      0.49        66\n",
      "\n",
      "    micro avg       0.61      0.83      0.70      1673\n",
      "    macro avg       0.56      0.66      0.60      1673\n",
      " weighted avg       0.62      0.83      0.70      1673\n",
      "  samples avg       0.08      0.08      0.08      1673\n",
      "\n",
      "Accuracy: 0.88\n",
      "Precision: 0.56\n",
      "Recall: 0.66\n",
      "F1: 0.60\n"
     ]
    },
    {
     "name": "stderr",
     "output_type": "stream",
     "text": [
      "\n"
     ]
    }
   ],
   "source": [
    "\n",
    "\n",
    "\n",
    "ckpt_file_path = \"C:\\\\Users\\\\salil\\\\lightning_logs\\\\toxic-comments_d\\\\version_0\\\\checkpoints\\\\epoch=11-step=11256.ckpt\"\n",
    "\n",
    "c_report, accuracy, precision, recall, f1 = evaluate_model(ckpt_file_path, test_df, tokenizer, max_token_count, labels_c)\n",
    "print(c_report)\n",
    "print(f\"Accuracy: {accuracy:.2f}\")\n",
    "print(f\"Precision: {precision:.2f}\")\n",
    "print(f\"Recall: {recall:.2f}\")\n",
    "print(f\"F1: {f1:.2f}\")"
   ]
  },
  {
   "cell_type": "code",
   "execution_count": 32,
   "id": "f008032a",
   "metadata": {},
   "outputs": [
    {
     "name": "stderr",
     "output_type": "stream",
     "text": [
      "Some weights of the model checkpoint at bert-base-cased were not used when initializing BertModel: ['cls.predictions.transform.LayerNorm.weight', 'cls.seq_relationship.bias', 'cls.predictions.transform.LayerNorm.bias', 'cls.predictions.transform.dense.weight', 'cls.predictions.bias', 'cls.predictions.transform.dense.bias', 'cls.seq_relationship.weight', 'cls.predictions.decoder.weight']\n",
      "- This IS expected if you are initializing BertModel from the checkpoint of a model trained on another task or with another architecture (e.g. initializing a BertForSequenceClassification model from a BertForPreTraining model).\n",
      "- This IS NOT expected if you are initializing BertModel from the checkpoint of a model that you expect to be exactly identical (initializing a BertForSequenceClassification model from a BertForSequenceClassification model).\n"
     ]
    },
    {
     "name": "stdout",
     "output_type": "stream",
     "text": [
      "toxic: [9.9938262e-01 7.8406436e-03 1.9777205e-03 7.9431254e-03 7.7068270e-04\n",
      " 1.3358864e-01]\n"
     ]
    }
   ],
   "source": [
    "trained_model = ToxicCommentTagger.load_from_checkpoint(ckpt_file_path, n_classes=len(labels_c))\n",
    "\n",
    "\n",
    "test_comment = \"type in your test comment here to test toxic classifier\"\n",
    "\n",
    "\n",
    "\n",
    "encoding = tokenizer.encode_plus(\n",
    "  test_comment,\n",
    "  add_special_tokens=True,\n",
    "  max_length=512,\n",
    "  return_token_type_ids=False,\n",
    "  padding=\"max_length\",\n",
    "  return_attention_mask=True,\n",
    "  return_tensors='pt',\n",
    ")\n",
    "\n",
    "_, test_prediction = trained_model(encoding[\"input_ids\"], encoding[\"attention_mask\"])\n",
    "test_prediction = test_prediction.detach().numpy()\n",
    "\n",
    "for label, prediction in zip(labels_c, test_prediction):\n",
    "  print(f\"{label}: {prediction}\")\n",
    "\n"
   ]
  },
  {
   "cell_type": "code",
   "execution_count": null,
   "id": "62bef316",
   "metadata": {},
   "outputs": [],
   "source": []
  }
 ],
 "metadata": {
  "kernelspec": {
   "display_name": "Python [conda env:deeplearning]",
   "language": "python",
   "name": "conda-env-deeplearning-py"
  },
  "language_info": {
   "codemirror_mode": {
    "name": "ipython",
    "version": 3
   },
   "file_extension": ".py",
   "mimetype": "text/x-python",
   "name": "python",
   "nbconvert_exporter": "python",
   "pygments_lexer": "ipython3",
   "version": "3.10.13"
  }
 },
 "nbformat": 4,
 "nbformat_minor": 5
}
